{
 "cells": [
  {
   "cell_type": "markdown",
   "metadata": {},
   "source": [
    "# Exercise 04 - Neural Networks for Regression in Keras\n",
    "\n",
    "## Part II - Constructing and training a model\n",
    "\n",
    "The main task of this exercise notebook is to build a neural network model of housing prices in California using the California census data. Our model should learn from this data and be able to predict the median housing price in any district, given all the other attributes.\n",
    "\n",
    "* This task is a typical **supervised learning task**, since we are given **labeled training examples** (each instance comes with the expected\n",
    "output, i.e., the district’s median housing price).\n",
    "* The task is also a typical **regression task**, since we are asked to predict a **continuous real value**.\n",
    "* More specifically, this is a **multiple regression problem** since the system will use **multiple features** to make a prediction (it\n",
    "will use the district’s population, the median income, etc.).\n",
    "* It is also a **univariate regression** problem since we are only trying to **predict a single value** for each district.\n",
    "\n",
    "## Learning Objectives\n",
    "\n",
    "- Learn how to configure a neural network architecture to solve a regression task, and in particular:\n",
    "- Learn to define the output layer for regression task\n",
    "- Learn to define activation functions for regression\n",
    "- Understand the cost functions and metrics for regression\n",
    "- Understand and practice weight and bias initialization in Keras\n",
    "- Try out Batch Normalization Layers\n",
    "- Learn how to take advantage of the logs dictionary in Keras\n",
    "- Learn to define our own callbacks and check the progress of a model\n",
    "- Understand and practice EarlyStoping \n",
    "\n",
    "Before you can start, find a GPU on the system that is not heavily used by other users (with **nvidia-smi**). Otherwise you cannot initialize your neural network."
   ]
  },
  {
   "cell_type": "code",
   "execution_count": 331,
   "metadata": {},
   "outputs": [],
   "source": [
    "# Change X to the GPU number you want to use,\n",
    "# otherwise you will get a Python error\n",
    "# e.g. USE_GPU = 4\n",
    "USE_GPU = 6 # YOUR CHOICE"
   ]
  },
  {
   "cell_type": "code",
   "execution_count": 332,
   "metadata": {},
   "outputs": [
    {
     "name": "stdout",
     "output_type": "stream",
     "text": [
      "TensorFlow version: 2.8.0\n",
      "\n",
      "Available GPU Devices:\n",
      "  /physical_device:GPU:0 GPU\n",
      "  /physical_device:GPU:1 GPU\n",
      "  /physical_device:GPU:2 GPU\n",
      "  /physical_device:GPU:3 GPU\n",
      "  /physical_device:GPU:4 GPU\n",
      "  /physical_device:GPU:5 GPU\n",
      "  /physical_device:GPU:6 GPU\n",
      "  /physical_device:GPU:7 GPU\n",
      "\n",
      "Visible GPU Devices:\n",
      "  /physical_device:GPU:6 GPU\n"
     ]
    }
   ],
   "source": [
    "# Import TensorFlow \n",
    "import tensorflow as tf\n",
    "\n",
    "# Print the installed TensorFlow version\n",
    "print(f'TensorFlow version: {tf.__version__}\\n')\n",
    "USE_GPU = 6\n",
    "# Get all GPU devices on this server\n",
    "gpu_devices = tf.config.list_physical_devices('GPU')\n",
    "\n",
    "# Print the name and the type of all GPU devices\n",
    "print('Available GPU Devices:')\n",
    "for gpu in gpu_devices:\n",
    "    print(' ', gpu.name, gpu.device_type)\n",
    "    \n",
    "# Set only the GPU specified as USE_GPU to be visible\n",
    "tf.config.set_visible_devices(gpu_devices[USE_GPU], 'GPU')\n",
    "\n",
    "# Get all visible GPU  devices on this server\n",
    "visible_devices = tf.config.get_visible_devices('GPU')\n",
    "\n",
    "# Print the name and the type of all visible GPU devices\n",
    "print('\\nVisible GPU Devices:')\n",
    "for gpu in visible_devices:\n",
    "    print(' ', gpu.name, gpu.device_type)\n",
    "    \n",
    "# Set the visible device(s) to not allocate all available memory at once,\n",
    "# but rather let the memory grow whenever needed\n",
    "for gpu in visible_devices:\n",
    "    tf.config.experimental.set_memory_growth(gpu, True)"
   ]
  },
  {
   "cell_type": "markdown",
   "metadata": {},
   "source": [
    "## California housing dataset\n",
    "\n",
    "For more details on the dataset used in this exercise, please take a look at part I about exploratory data analysis.\n",
    "\n",
    "In the following, the data is loaded and stored in the respective folder."
   ]
  },
  {
   "cell_type": "code",
   "execution_count": 333,
   "metadata": {},
   "outputs": [
    {
     "name": "stdout",
     "output_type": "stream",
     "text": [
      "Input : (20640, 8)\n",
      "Labels: (20640,)\n"
     ]
    }
   ],
   "source": [
    "import os\n",
    "from sklearn.datasets import fetch_california_housing\n",
    "\n",
    "if not os.path.exists('./datasets'):\n",
    "    os.mkdir('./datasets')\n",
    "    \n",
    "X_full, y_full = fetch_california_housing(data_home = r'./datasets', return_X_y=True)\n",
    "\n",
    "print(\"Input :\", X_full.shape)\n",
    "print(\"Labels:\", y_full.shape)"
   ]
  },
  {
   "cell_type": "markdown",
   "metadata": {},
   "source": [
    "## Validation and test sets\n",
    "\n",
    "Evaluating a model always boils down to splitting your available data into three sets:\n",
    "training, validation, and test set. You train on the training data, and evaluate your model on the validation data. Once your model is ready to use, you test it one final time\n",
    "on the test data The reason is that developing a model always involves tuning its hyperparameters, e.g. picking the number of layers or the size of the layers. You do this tuning based on the feeback you get from the validation data, so in essence this tuning is a form of learning: a search for a good configuration in some hyperparameter space. As a result, tuning\n",
    "the configuration of the model based on its performance on the validation set can quickly result in overfitting to the validation set, even though your model is never being directly\n",
    "trained on it.\n",
    "\n",
    "Central to this phenomenon is the notion of \"information leak\". Every time you are tuning a hyperparameter of your model based on the model’s performance on the validation set, some information about the validation data is leaking into your model. If you only do this once, for one parameter, then very few bits of information would be leaking and your validation set would remain a reliable way to evaluate your model. But if you repeat this many times, running one experiment, evaluating on the validation set, modifying your model as a result, then you are leaking an increasingly significant amount of information about the validation set into your model. At the end of the day, you end up with a model that performs artificially well on the validation data, because it is what you optimized it for. But what you want in the end is a model that performa also well on unseen data, which is the test set.\n",
    "\n",
    "Splitting your data into a training, validation, and test sets may seem straightforward, but there are a few advanced ways to do it which can come in handy when very few data is available. Scikit-Learn provides a several functions to split datasets into multiple subsets in various ways. The simplest function is [train_test_split](https://scikit-learn.org/stable/modules/generated/sklearn.model_selection.train_test_split.html?highlight=train%20test%20split#sklearn.model_selection.train_test_split). It has a key-value argument `random_state parameter` that allows you to set the random generator seed, which allows us to reproduce the results. This is sometimes helpful when experimenting with your data. If you do not provide any value as seed value, the split would be totally random.\n",
    "\n",
    "We first split into training data and test data."
   ]
  },
  {
   "cell_type": "code",
   "execution_count": 334,
   "metadata": {},
   "outputs": [
    {
     "name": "stdout",
     "output_type": "stream",
     "text": [
      "The training and test dataset 16512,4128 samples.\n"
     ]
    }
   ],
   "source": [
    "from sklearn.model_selection import train_test_split\n",
    "x_train,x_test,y_train,y_test = train_test_split(X_full, y_full ,\n",
    "                                                 test_size = 0.2,random_state=42)\n",
    "\n",
    "print(f'The training and test dataset {x_train.shape[0]},{x_test.shape[0]} samples.')"
   ]
  },
  {
   "cell_type": "markdown",
   "metadata": {},
   "source": [
    "And furthermore, we split the just received trainig data in an even smaller training set and a validation set. As usual, we will use the validation set to follow the progress of the training on samples not seen during the training which will help us to tune the training hyperparameters."
   ]
  },
  {
   "cell_type": "code",
   "execution_count": 335,
   "metadata": {},
   "outputs": [
    {
     "name": "stdout",
     "output_type": "stream",
     "text": [
      "The training and validation data 12384,4128 samples\n"
     ]
    }
   ],
   "source": [
    "xS_train,x_valid,yS_train,y_valid =train_test_split(x_train,y_train,\n",
    "                                                       test_size =0.25,random_state=42)\n",
    "\n",
    "print(f'The training and validation data {xS_train.shape[0]},{x_valid.shape[0]} samples')\n",
    "                                                       "
   ]
  },
  {
   "cell_type": "markdown",
   "metadata": {},
   "source": [
    "## Feature Scaling\n",
    "\n",
    "One of the most important transformations you need to apply to your data is feature scaling. With few exceptions, machine learning algorithms don’t perform well when the numerical input attributes have very different scales. This is the case for the housing data: the average number of rooms ranges from about 0.84 to 141, while the median income only ranges from 0 to 15. Note that scaling the *target values* is generally not required.\n",
    "\n",
    "There are two common ways to get all attributes to have the same scale: `min-max scaling` and `standardization`.\n",
    "- Normalization (min-max scaling) is a rescaling of the data from the original range so that all values are within the new range of 0.0 and 1.0.\n",
    "- Standardization requires that you know or are able to accurately estimate the mean and standard deviation of observable values. You may be able to estimate these values from your training data, not the entire dataset.\n",
    "Subtracting the mean from the data is called centering, whereas dividing by the standard deviation is called scaling. Therefore, the method is sometimes also called “center scaling“.\n",
    "Unlike min-max scaling, standardization does not bound values to a specific range, which may be a problem for some algorithms (e.g., neural networks often expect an input value ranging from 0.0 to 1.0). However, standardization is much less affected by outliers.\n",
    "\n",
    "In order to standardise our data, we will use the [StandardScaler](https://scikit-learn.org/stable/modules/generated/sklearn.preprocessing.StandardScaler.html) class of sklearn. After importing the `StandardScaler` class, we construct an object from it and assign it to a variable. Using the `fit_transform()` method of the scaler, we then fit the training data to the scaler, i.e. compute the mean and unit standard deviation for each input features, and transform the training data accordingly. The mean and unit standard deviation (or equivalently the unit variance) can now be accessed with the `mean_` and `var_` attributes of the scaler object. At this point, we can transform the validation and test data with the same transformation using the `transform()` method of the scaler.\n",
    "\n",
    "As with all the data transformations, it is important to **fit the scalers to the training data only!!!**, not to the full dataset (including the test set). Only then can you use them to transform the training set and the test set (as well as unseen data)."
   ]
  },
  {
   "cell_type": "code",
   "execution_count": 336,
   "metadata": {},
   "outputs": [
    {
     "name": "stdout",
     "output_type": "stream",
     "text": [
      "Train means: [ 3.87008981e+00  2.85858366e+01  5.41183744e+00  1.09258608e+00\n",
      "  1.42728965e+03  3.03326420e+00  3.56420026e+01 -1.19579831e+02]\n",
      "\n",
      "Train standard deviations: [3.56515265e+00 1.58950642e+02 4.31559188e+00 1.30995274e-01\n",
      " 1.30172719e+06 5.00432321e+01 4.54069499e+00 4.02000907e+00]\n",
      "\n"
     ]
    }
   ],
   "source": [
    "from sklearn.preprocessing import StandardScaler\n",
    "std_scaler = StandardScaler()\n",
    "X_train_scaled = std_scaler.fit_transform(xS_train)\n",
    "print(f'Train means: {std_scaler.mean_}\\n')\n",
    "print(f'Train standard deviations: {std_scaler.var_}\\n')\n",
    "X_valid_scaled = std_scaler.transform(x_valid)\n",
    "X_test_scaled  = std_scaler.transform(x_test)"
   ]
  },
  {
   "cell_type": "markdown",
   "metadata": {},
   "source": [
    "## Neural network model for regression\n",
    "    \n",
    "Building, training, evaluating and using a regression neural network using the Sequential API to make predictions is quite similar to what we did for classification. Because the dataset is quite noisy and of reduced size, we will just use a single hidden layer with 32 neurons to avoid overfitting. The shape of the input layer is (8,), which is a vector of 8 values, our features from the housing data. In contrast to the classification task, where the output is a set of probabilities corresponding to each categories of a pre-defined set, the output of regression is a continuous, real number. Consequently, **the output layer has only a single neuron**, since we only want to predict a single value, and uses no activation function. (If we would predict n numbers, we would use n neurons in the output layer.)"
   ]
  },
  {
   "cell_type": "code",
   "execution_count": 337,
   "metadata": {},
   "outputs": [],
   "source": [
    "from tensorflow.keras import Sequential\n",
    "from tensorflow.keras.layers import Dense, ReLU\n",
    "model = Sequential([Dense(32, activation=\"relu\", input_shape=(8,)),Dense(1)])"
   ]
  },
  {
   "cell_type": "markdown",
   "metadata": {},
   "source": [
    "Another important difference (to classification) is the used loss function needed to train the network. Here, we use the mean squared error, referenced by the string `mean_squared_error` or `mse` in TensorFlow. (You can use either `mean_squared_error` or `mse`, it does not matter. The only difference is that the fit methods outputs the string in one way or the other, so in the first case, your output string is quite long.) The mean squared error takes the sum of the squared differences between the predicted values and the real values.\n",
    "\n",
    "Further popular loss functions are mean of absolute error (MAE) or Huber loss.\n",
    "\n",
    "When compiling our model, we define the loss function and the performance metrics to be the mean squared error. Actually, we would not even need the performance metrics, since the loss and the performance metrics are both the mse, and would give the same value. But it might be easier to read the output, since it now explicitly states the mse, and not just a loss value that we might have forgotten to be the mse."
   ]
  },
  {
   "cell_type": "code",
   "execution_count": 338,
   "metadata": {},
   "outputs": [],
   "source": [
    "model.compile(loss=\"mse\", optimizer=tf.keras.optimizers.SGD(learning_rate=0.001), metrics=\"mse\")"
   ]
  },
  {
   "cell_type": "markdown",
   "metadata": {},
   "source": [
    "Now, you can fit the model to the training data using the scaled training data, the (unscaled) labels of the training data, and evaluate by the scaled validation data, and the unscaled evaluation labels."
   ]
  },
  {
   "cell_type": "code",
   "execution_count": 339,
   "metadata": {},
   "outputs": [
    {
     "name": "stdout",
     "output_type": "stream",
     "text": [
      "Epoch 1/25\n",
      "387/387 [==============================] - 1s 1ms/step - loss: 2.0104 - mse: 2.0104 - val_loss: 0.8721 - val_mse: 0.8721\n",
      "Epoch 2/25\n",
      "387/387 [==============================] - 0s 1ms/step - loss: 0.7325 - mse: 0.7325 - val_loss: 0.6917 - val_mse: 0.6917\n",
      "Epoch 3/25\n",
      "387/387 [==============================] - 0s 1ms/step - loss: 0.6493 - mse: 0.6493 - val_loss: 0.6399 - val_mse: 0.6399\n",
      "Epoch 4/25\n",
      "387/387 [==============================] - 0s 1ms/step - loss: 0.6097 - mse: 0.6097 - val_loss: 0.6029 - val_mse: 0.6029\n",
      "Epoch 5/25\n",
      "387/387 [==============================] - 0s 1ms/step - loss: 0.5803 - mse: 0.5803 - val_loss: 0.5781 - val_mse: 0.5781\n",
      "Epoch 6/25\n",
      "387/387 [==============================] - 0s 1ms/step - loss: 0.5574 - mse: 0.5574 - val_loss: 0.5549 - val_mse: 0.5549\n",
      "Epoch 7/25\n",
      "387/387 [==============================] - 0s 1ms/step - loss: 0.5372 - mse: 0.5372 - val_loss: 0.5370 - val_mse: 0.5370\n",
      "Epoch 8/25\n",
      "387/387 [==============================] - 0s 1ms/step - loss: 0.5213 - mse: 0.5213 - val_loss: 0.5195 - val_mse: 0.5195\n",
      "Epoch 9/25\n",
      "387/387 [==============================] - 0s 1ms/step - loss: 0.5069 - mse: 0.5069 - val_loss: 0.5062 - val_mse: 0.5062\n",
      "Epoch 10/25\n",
      "387/387 [==============================] - 0s 1ms/step - loss: 0.4945 - mse: 0.4945 - val_loss: 0.4949 - val_mse: 0.4949\n",
      "Epoch 11/25\n",
      "387/387 [==============================] - 0s 1ms/step - loss: 0.4840 - mse: 0.4840 - val_loss: 0.4851 - val_mse: 0.4851\n",
      "Epoch 12/25\n",
      "387/387 [==============================] - 0s 1ms/step - loss: 0.4749 - mse: 0.4749 - val_loss: 0.4743 - val_mse: 0.4743\n",
      "Epoch 13/25\n",
      "387/387 [==============================] - 0s 1ms/step - loss: 0.4668 - mse: 0.4668 - val_loss: 0.4667 - val_mse: 0.4667\n",
      "Epoch 14/25\n",
      "387/387 [==============================] - 0s 1ms/step - loss: 0.4600 - mse: 0.4600 - val_loss: 0.4603 - val_mse: 0.4603\n",
      "Epoch 15/25\n",
      "387/387 [==============================] - 0s 1ms/step - loss: 0.4539 - mse: 0.4539 - val_loss: 0.4555 - val_mse: 0.4555\n",
      "Epoch 16/25\n",
      "387/387 [==============================] - 0s 1ms/step - loss: 0.4487 - mse: 0.4487 - val_loss: 0.4494 - val_mse: 0.4494\n",
      "Epoch 17/25\n",
      "387/387 [==============================] - 0s 1ms/step - loss: 0.4438 - mse: 0.4438 - val_loss: 0.4444 - val_mse: 0.4444\n",
      "Epoch 18/25\n",
      "387/387 [==============================] - 0s 1ms/step - loss: 0.4398 - mse: 0.4398 - val_loss: 0.4417 - val_mse: 0.4417\n",
      "Epoch 19/25\n",
      "387/387 [==============================] - 0s 1ms/step - loss: 0.4360 - mse: 0.4360 - val_loss: 0.4360 - val_mse: 0.4360\n",
      "Epoch 20/25\n",
      "387/387 [==============================] - 0s 1ms/step - loss: 0.4330 - mse: 0.4330 - val_loss: 0.4330 - val_mse: 0.4330\n",
      "Epoch 21/25\n",
      "387/387 [==============================] - 0s 1ms/step - loss: 0.4298 - mse: 0.4298 - val_loss: 0.4326 - val_mse: 0.4326\n",
      "Epoch 22/25\n",
      "387/387 [==============================] - 0s 1ms/step - loss: 0.4271 - mse: 0.4271 - val_loss: 0.4270 - val_mse: 0.4270\n",
      "Epoch 23/25\n",
      "387/387 [==============================] - 0s 1ms/step - loss: 0.4247 - mse: 0.4247 - val_loss: 0.4245 - val_mse: 0.4245\n",
      "Epoch 24/25\n",
      "387/387 [==============================] - 0s 1ms/step - loss: 0.4223 - mse: 0.4223 - val_loss: 0.4231 - val_mse: 0.4231\n",
      "Epoch 25/25\n",
      "387/387 [==============================] - 0s 1ms/step - loss: 0.4201 - mse: 0.4201 - val_loss: 0.4225 - val_mse: 0.4225\n"
     ]
    }
   ],
   "source": [
    "history = model.fit(X_train_scaled, yS_train,epochs=25, validation_data=(X_valid_scaled, y_valid))"
   ]
  },
  {
   "cell_type": "markdown",
   "metadata": {},
   "source": [
    "## Early stopping callback\n",
    "\n",
    "When training a model we cannot predict a-priori *how many epochs* will be needed to get to an *optimal validation loss*. One empirical method is to train a model for a fixed number of epochs, in general large enough that it would start overfitting, and using this first run to figure out the proper number of epochs to train, and finally launch a new training run from scratch with this optimal number of epochs.\n",
    "\n",
    "A much better way to handle this would be to stop training when we measure that the validation loss has stopped improving. This can be achieved using a Keras `callback` object. A callback is an object (a class instance implementing specific methods) that is passed to the `model` in the call to `fit` and that is called by the model at various points during training. It has access to all the data available about the state of the model and its performance, and it is capable to take action, for instance interrupting training, saving a model, loading a different weight set, or otherwise altering the state of the model (depending on the type of call back).\n",
    "\n",
    "**Callbacks can be used for:**\n",
    "- Model checkpointing: saving the current weights of the model at different points during training.\n",
    "- Early stopping: interrupting training when the validation loss has stopped improving (and of course, saving the best model obtained during training).\n",
    "- Dynamically adjusting the value of certain parameters during training, such as the learning rate of the optimizer.\n",
    "- Logging the training and validation metrics during training, or visualizing the representations learned by the model as they get updated. \n",
    "- And more …\n",
    "\n",
    "There are a number of built-in callbacks found in the `tf.keras.callbacks` [module](https://www.tensorflow.org/api_docs/python/tf/keras/callbacks).\n",
    "\n",
    "In the following, we define an early stopping callback to interrupt the training process once the loss (MSE) has stopped improving for a defined number of epochs. In our example, the validation loss (`val_loss`) is monitored, and if the difference between two successive loss values is less than a specified value (`min_delta`) for a number of epochs (`patience`), then the training is stopped. Meaning, if the loss has not improved by this min_delta over the patience number of epochs, then this callback will stop the training process.\n",
    "\n",
    "Create a list of callbacks that contains, in our example, just an `EarlyStopping` class callback with the above described arguments."
   ]
  },
  {
   "cell_type": "code",
   "execution_count": 340,
   "metadata": {},
   "outputs": [],
   "source": [
    "\n",
    "callbacks_list = [tf.keras.callbacks.EarlyStopping(monitor= 'val_loss', min_delta = .001, patience = 10)]"
   ]
  },
  {
   "cell_type": "markdown",
   "metadata": {},
   "source": [
    "We construct a new model, compile it, and to fit the data, we pass the list of callbacks to the fit() method of the model. This time we define the training process to use 50 epochs."
   ]
  },
  {
   "cell_type": "code",
   "execution_count": 341,
   "metadata": {},
   "outputs": [
    {
     "name": "stdout",
     "output_type": "stream",
     "text": [
      "Epoch 1/100\n",
      "387/387 [==============================] - 1s 1ms/step - loss: 2.3309 - mse: 2.3309 - val_loss: 1.0550 - val_mse: 1.0550\n",
      "Epoch 2/100\n",
      "387/387 [==============================] - 0s 1ms/step - loss: 0.7575 - mse: 0.7575 - val_loss: 0.7221 - val_mse: 0.7221\n",
      "Epoch 3/100\n",
      "387/387 [==============================] - 0s 1ms/step - loss: 0.6710 - mse: 0.6710 - val_loss: 0.6710 - val_mse: 0.6710\n",
      "Epoch 4/100\n",
      "387/387 [==============================] - 0s 1ms/step - loss: 0.6347 - mse: 0.6347 - val_loss: 0.6415 - val_mse: 0.6415\n",
      "Epoch 5/100\n",
      "387/387 [==============================] - 0s 1ms/step - loss: 0.6084 - mse: 0.6084 - val_loss: 0.6129 - val_mse: 0.6129\n",
      "Epoch 6/100\n",
      "387/387 [==============================] - 0s 1ms/step - loss: 0.5864 - mse: 0.5864 - val_loss: 0.5915 - val_mse: 0.5915\n",
      "Epoch 7/100\n",
      "387/387 [==============================] - 0s 1ms/step - loss: 0.5681 - mse: 0.5681 - val_loss: 0.5730 - val_mse: 0.5730\n",
      "Epoch 8/100\n",
      "387/387 [==============================] - 0s 1ms/step - loss: 0.5529 - mse: 0.5529 - val_loss: 0.5604 - val_mse: 0.5604\n",
      "Epoch 9/100\n",
      "387/387 [==============================] - 0s 1ms/step - loss: 0.5397 - mse: 0.5397 - val_loss: 0.5452 - val_mse: 0.5452\n",
      "Epoch 10/100\n",
      "387/387 [==============================] - 0s 1ms/step - loss: 0.5284 - mse: 0.5284 - val_loss: 0.5338 - val_mse: 0.5338\n",
      "Epoch 11/100\n",
      "387/387 [==============================] - 0s 1ms/step - loss: 0.5185 - mse: 0.5185 - val_loss: 0.5239 - val_mse: 0.5239\n",
      "Epoch 12/100\n",
      "387/387 [==============================] - 0s 1ms/step - loss: 0.5100 - mse: 0.5100 - val_loss: 0.5149 - val_mse: 0.5149\n",
      "Epoch 13/100\n",
      "387/387 [==============================] - 0s 1ms/step - loss: 0.5028 - mse: 0.5028 - val_loss: 0.5076 - val_mse: 0.5076\n",
      "Epoch 14/100\n",
      "387/387 [==============================] - 0s 1ms/step - loss: 0.4965 - mse: 0.4965 - val_loss: 0.5040 - val_mse: 0.5040\n",
      "Epoch 15/100\n",
      "387/387 [==============================] - 0s 1ms/step - loss: 0.4912 - mse: 0.4912 - val_loss: 0.4993 - val_mse: 0.4993\n",
      "Epoch 16/100\n",
      "387/387 [==============================] - 0s 1ms/step - loss: 0.4865 - mse: 0.4865 - val_loss: 0.4918 - val_mse: 0.4918\n",
      "Epoch 17/100\n",
      "387/387 [==============================] - 0s 1ms/step - loss: 0.4823 - mse: 0.4823 - val_loss: 0.4877 - val_mse: 0.4877\n",
      "Epoch 18/100\n",
      "387/387 [==============================] - 0s 1ms/step - loss: 0.4784 - mse: 0.4784 - val_loss: 0.4827 - val_mse: 0.4827\n",
      "Epoch 19/100\n",
      "387/387 [==============================] - 0s 1ms/step - loss: 0.4752 - mse: 0.4752 - val_loss: 0.4790 - val_mse: 0.4790\n",
      "Epoch 20/100\n",
      "387/387 [==============================] - 0s 1ms/step - loss: 0.4717 - mse: 0.4717 - val_loss: 0.4762 - val_mse: 0.4762\n",
      "Epoch 21/100\n",
      "387/387 [==============================] - 0s 1ms/step - loss: 0.4688 - mse: 0.4688 - val_loss: 0.4766 - val_mse: 0.4766\n",
      "Epoch 22/100\n",
      "387/387 [==============================] - 0s 1ms/step - loss: 0.4656 - mse: 0.4656 - val_loss: 0.4688 - val_mse: 0.4688\n",
      "Epoch 23/100\n",
      "387/387 [==============================] - 0s 1ms/step - loss: 0.4632 - mse: 0.4632 - val_loss: 0.4680 - val_mse: 0.4680\n",
      "Epoch 24/100\n",
      "387/387 [==============================] - 0s 1ms/step - loss: 0.4605 - mse: 0.4605 - val_loss: 0.4648 - val_mse: 0.4648\n",
      "Epoch 25/100\n",
      "387/387 [==============================] - 0s 1ms/step - loss: 0.4575 - mse: 0.4575 - val_loss: 0.4608 - val_mse: 0.4608\n",
      "Epoch 26/100\n",
      "387/387 [==============================] - 0s 1ms/step - loss: 0.4555 - mse: 0.4555 - val_loss: 0.4599 - val_mse: 0.4599\n",
      "Epoch 27/100\n",
      "387/387 [==============================] - 0s 1ms/step - loss: 0.4530 - mse: 0.4530 - val_loss: 0.4553 - val_mse: 0.4553\n",
      "Epoch 28/100\n",
      "387/387 [==============================] - 0s 1ms/step - loss: 0.4508 - mse: 0.4508 - val_loss: 0.4549 - val_mse: 0.4549\n",
      "Epoch 29/100\n",
      "387/387 [==============================] - 0s 1ms/step - loss: 0.4490 - mse: 0.4490 - val_loss: 0.4513 - val_mse: 0.4513\n",
      "Epoch 30/100\n",
      "387/387 [==============================] - 0s 1ms/step - loss: 0.4462 - mse: 0.4462 - val_loss: 0.4495 - val_mse: 0.4495\n",
      "Epoch 31/100\n",
      "387/387 [==============================] - 0s 1ms/step - loss: 0.4443 - mse: 0.4443 - val_loss: 0.4492 - val_mse: 0.4492\n",
      "Epoch 32/100\n",
      "387/387 [==============================] - 0s 1ms/step - loss: 0.4422 - mse: 0.4422 - val_loss: 0.4453 - val_mse: 0.4453\n",
      "Epoch 33/100\n",
      "387/387 [==============================] - 0s 1ms/step - loss: 0.4401 - mse: 0.4401 - val_loss: 0.4422 - val_mse: 0.4422\n",
      "Epoch 34/100\n",
      "387/387 [==============================] - 0s 1ms/step - loss: 0.4376 - mse: 0.4376 - val_loss: 0.4387 - val_mse: 0.4387\n",
      "Epoch 35/100\n",
      "387/387 [==============================] - 0s 1ms/step - loss: 0.4356 - mse: 0.4356 - val_loss: 0.4366 - val_mse: 0.4366\n",
      "Epoch 36/100\n",
      "387/387 [==============================] - 0s 1ms/step - loss: 0.4335 - mse: 0.4335 - val_loss: 0.4349 - val_mse: 0.4349\n",
      "Epoch 37/100\n",
      "387/387 [==============================] - 0s 1ms/step - loss: 0.4312 - mse: 0.4312 - val_loss: 0.4324 - val_mse: 0.4324\n",
      "Epoch 38/100\n",
      "387/387 [==============================] - 0s 1ms/step - loss: 0.4289 - mse: 0.4289 - val_loss: 0.4289 - val_mse: 0.4289\n",
      "Epoch 39/100\n",
      "387/387 [==============================] - 0s 1ms/step - loss: 0.4269 - mse: 0.4269 - val_loss: 0.4266 - val_mse: 0.4266\n",
      "Epoch 40/100\n",
      "387/387 [==============================] - 0s 1ms/step - loss: 0.4253 - mse: 0.4253 - val_loss: 0.4240 - val_mse: 0.4240\n",
      "Epoch 41/100\n",
      "387/387 [==============================] - 0s 1ms/step - loss: 0.4237 - mse: 0.4237 - val_loss: 0.4233 - val_mse: 0.4233\n",
      "Epoch 42/100\n",
      "387/387 [==============================] - 0s 1ms/step - loss: 0.4221 - mse: 0.4221 - val_loss: 0.4215 - val_mse: 0.4215\n",
      "Epoch 43/100\n",
      "387/387 [==============================] - 0s 1ms/step - loss: 0.4206 - mse: 0.4206 - val_loss: 0.4195 - val_mse: 0.4195\n",
      "Epoch 44/100\n",
      "387/387 [==============================] - 0s 1ms/step - loss: 0.4189 - mse: 0.4189 - val_loss: 0.4199 - val_mse: 0.4199\n",
      "Epoch 45/100\n",
      "387/387 [==============================] - 0s 1ms/step - loss: 0.4176 - mse: 0.4176 - val_loss: 0.4170 - val_mse: 0.4170\n",
      "Epoch 46/100\n",
      "387/387 [==============================] - 0s 1ms/step - loss: 0.4164 - mse: 0.4164 - val_loss: 0.4157 - val_mse: 0.4157\n",
      "Epoch 47/100\n",
      "387/387 [==============================] - 0s 1ms/step - loss: 0.4150 - mse: 0.4150 - val_loss: 0.4148 - val_mse: 0.4148\n",
      "Epoch 48/100\n",
      "387/387 [==============================] - 0s 1ms/step - loss: 0.4136 - mse: 0.4136 - val_loss: 0.4129 - val_mse: 0.4129\n",
      "Epoch 49/100\n",
      "387/387 [==============================] - 0s 1ms/step - loss: 0.4123 - mse: 0.4123 - val_loss: 0.4118 - val_mse: 0.4118\n",
      "Epoch 50/100\n",
      "387/387 [==============================] - 0s 1ms/step - loss: 0.4109 - mse: 0.4109 - val_loss: 0.4136 - val_mse: 0.4136\n",
      "Epoch 51/100\n",
      "387/387 [==============================] - 0s 1ms/step - loss: 0.4099 - mse: 0.4099 - val_loss: 0.4093 - val_mse: 0.4093\n",
      "Epoch 52/100\n",
      "387/387 [==============================] - 0s 1ms/step - loss: 0.4086 - mse: 0.4086 - val_loss: 0.4080 - val_mse: 0.4080\n",
      "Epoch 53/100\n",
      "387/387 [==============================] - 0s 1ms/step - loss: 0.4075 - mse: 0.4075 - val_loss: 0.4078 - val_mse: 0.4078\n",
      "Epoch 54/100\n",
      "387/387 [==============================] - 0s 1ms/step - loss: 0.4063 - mse: 0.4063 - val_loss: 0.4062 - val_mse: 0.4062\n",
      "Epoch 55/100\n",
      "387/387 [==============================] - 0s 1ms/step - loss: 0.4051 - mse: 0.4051 - val_loss: 0.4062 - val_mse: 0.4062\n",
      "Epoch 56/100\n",
      "387/387 [==============================] - 0s 1ms/step - loss: 0.4042 - mse: 0.4042 - val_loss: 0.4046 - val_mse: 0.4046\n",
      "Epoch 57/100\n",
      "387/387 [==============================] - 0s 1ms/step - loss: 0.4031 - mse: 0.4031 - val_loss: 0.4035 - val_mse: 0.4035\n",
      "Epoch 58/100\n",
      "387/387 [==============================] - 0s 1ms/step - loss: 0.4020 - mse: 0.4020 - val_loss: 0.4029 - val_mse: 0.4029\n",
      "Epoch 59/100\n",
      "387/387 [==============================] - 0s 1ms/step - loss: 0.4009 - mse: 0.4009 - val_loss: 0.4017 - val_mse: 0.4017\n",
      "Epoch 60/100\n",
      "387/387 [==============================] - 0s 1ms/step - loss: 0.4001 - mse: 0.4001 - val_loss: 0.4016 - val_mse: 0.4016\n",
      "Epoch 61/100\n",
      "387/387 [==============================] - 0s 1ms/step - loss: 0.3990 - mse: 0.3990 - val_loss: 0.4004 - val_mse: 0.4004\n",
      "Epoch 62/100\n",
      "387/387 [==============================] - 0s 1ms/step - loss: 0.3983 - mse: 0.3983 - val_loss: 0.3992 - val_mse: 0.3992\n",
      "Epoch 63/100\n",
      "387/387 [==============================] - 0s 1ms/step - loss: 0.3975 - mse: 0.3975 - val_loss: 0.3982 - val_mse: 0.3982\n",
      "Epoch 64/100\n",
      "387/387 [==============================] - 0s 1ms/step - loss: 0.3966 - mse: 0.3966 - val_loss: 0.3982 - val_mse: 0.3982\n",
      "Epoch 65/100\n",
      "387/387 [==============================] - 0s 1ms/step - loss: 0.3956 - mse: 0.3956 - val_loss: 0.3973 - val_mse: 0.3973\n",
      "Epoch 66/100\n",
      "387/387 [==============================] - 0s 1ms/step - loss: 0.3948 - mse: 0.3948 - val_loss: 0.3990 - val_mse: 0.3990\n",
      "Epoch 67/100\n",
      "387/387 [==============================] - 0s 1ms/step - loss: 0.3942 - mse: 0.3942 - val_loss: 0.3961 - val_mse: 0.3961\n",
      "Epoch 68/100\n",
      "387/387 [==============================] - 0s 1ms/step - loss: 0.3932 - mse: 0.3932 - val_loss: 0.3952 - val_mse: 0.3952\n",
      "Epoch 69/100\n",
      "387/387 [==============================] - 0s 1ms/step - loss: 0.3925 - mse: 0.3925 - val_loss: 0.3953 - val_mse: 0.3953\n",
      "Epoch 70/100\n",
      "387/387 [==============================] - 0s 1ms/step - loss: 0.3918 - mse: 0.3918 - val_loss: 0.3942 - val_mse: 0.3942\n",
      "Epoch 71/100\n",
      "387/387 [==============================] - 0s 1ms/step - loss: 0.3911 - mse: 0.3911 - val_loss: 0.3925 - val_mse: 0.3925\n",
      "Epoch 72/100\n",
      "387/387 [==============================] - 0s 1ms/step - loss: 0.3900 - mse: 0.3900 - val_loss: 0.3934 - val_mse: 0.3934\n",
      "Epoch 73/100\n",
      "387/387 [==============================] - 0s 1ms/step - loss: 0.3897 - mse: 0.3897 - val_loss: 0.3916 - val_mse: 0.3916\n",
      "Epoch 74/100\n",
      "387/387 [==============================] - 0s 1ms/step - loss: 0.3889 - mse: 0.3889 - val_loss: 0.3908 - val_mse: 0.3908\n",
      "Epoch 75/100\n",
      "387/387 [==============================] - 0s 1ms/step - loss: 0.3880 - mse: 0.3880 - val_loss: 0.3896 - val_mse: 0.3896\n",
      "Epoch 76/100\n",
      "387/387 [==============================] - 0s 1ms/step - loss: 0.3876 - mse: 0.3876 - val_loss: 0.3889 - val_mse: 0.3889\n",
      "Epoch 77/100\n",
      "387/387 [==============================] - 0s 1ms/step - loss: 0.3868 - mse: 0.3868 - val_loss: 0.3884 - val_mse: 0.3884\n",
      "Epoch 78/100\n",
      "387/387 [==============================] - 0s 1ms/step - loss: 0.3859 - mse: 0.3859 - val_loss: 0.3887 - val_mse: 0.3887\n",
      "Epoch 79/100\n",
      "387/387 [==============================] - 0s 1ms/step - loss: 0.3852 - mse: 0.3852 - val_loss: 0.3879 - val_mse: 0.3879\n",
      "Epoch 80/100\n",
      "387/387 [==============================] - 0s 1ms/step - loss: 0.3848 - mse: 0.3848 - val_loss: 0.3878 - val_mse: 0.3878\n",
      "Epoch 81/100\n",
      "387/387 [==============================] - 0s 1ms/step - loss: 0.3840 - mse: 0.3840 - val_loss: 0.3868 - val_mse: 0.3868\n",
      "Epoch 82/100\n",
      "387/387 [==============================] - 0s 1ms/step - loss: 0.3834 - mse: 0.3834 - val_loss: 0.3853 - val_mse: 0.3853\n",
      "Epoch 83/100\n",
      "387/387 [==============================] - 0s 1ms/step - loss: 0.3828 - mse: 0.3828 - val_loss: 0.3848 - val_mse: 0.3848\n",
      "Epoch 84/100\n",
      "387/387 [==============================] - 0s 1ms/step - loss: 0.3822 - mse: 0.3822 - val_loss: 0.3844 - val_mse: 0.3844\n",
      "Epoch 85/100\n",
      "387/387 [==============================] - 0s 1ms/step - loss: 0.3815 - mse: 0.3815 - val_loss: 0.3850 - val_mse: 0.3850\n",
      "Epoch 86/100\n",
      "387/387 [==============================] - 0s 1ms/step - loss: 0.3808 - mse: 0.3808 - val_loss: 0.3836 - val_mse: 0.3836\n",
      "Epoch 87/100\n",
      "387/387 [==============================] - 0s 1ms/step - loss: 0.3802 - mse: 0.3802 - val_loss: 0.3837 - val_mse: 0.3837\n",
      "Epoch 88/100\n",
      "387/387 [==============================] - 0s 1ms/step - loss: 0.3795 - mse: 0.3795 - val_loss: 0.3834 - val_mse: 0.3834\n",
      "Epoch 89/100\n",
      "387/387 [==============================] - 0s 1ms/step - loss: 0.3788 - mse: 0.3788 - val_loss: 0.3818 - val_mse: 0.3818\n",
      "Epoch 90/100\n",
      "387/387 [==============================] - 0s 1ms/step - loss: 0.3785 - mse: 0.3785 - val_loss: 0.3810 - val_mse: 0.3810\n",
      "Epoch 91/100\n",
      "387/387 [==============================] - 0s 1ms/step - loss: 0.3779 - mse: 0.3779 - val_loss: 0.3807 - val_mse: 0.3807\n",
      "Epoch 92/100\n",
      "387/387 [==============================] - 0s 1ms/step - loss: 0.3771 - mse: 0.3771 - val_loss: 0.3801 - val_mse: 0.3801\n",
      "Epoch 93/100\n",
      "387/387 [==============================] - 0s 1ms/step - loss: 0.3767 - mse: 0.3767 - val_loss: 0.3803 - val_mse: 0.3803\n",
      "Epoch 94/100\n",
      "387/387 [==============================] - 0s 1ms/step - loss: 0.3761 - mse: 0.3761 - val_loss: 0.3798 - val_mse: 0.3798\n",
      "Epoch 95/100\n",
      "387/387 [==============================] - 0s 1ms/step - loss: 0.3756 - mse: 0.3756 - val_loss: 0.3787 - val_mse: 0.3787\n",
      "Epoch 96/100\n",
      "387/387 [==============================] - 0s 1ms/step - loss: 0.3751 - mse: 0.3751 - val_loss: 0.3781 - val_mse: 0.3781\n",
      "Epoch 97/100\n",
      "387/387 [==============================] - 0s 1ms/step - loss: 0.3745 - mse: 0.3745 - val_loss: 0.3781 - val_mse: 0.3781\n",
      "Epoch 98/100\n",
      "387/387 [==============================] - 0s 1ms/step - loss: 0.3740 - mse: 0.3740 - val_loss: 0.3782 - val_mse: 0.3782\n",
      "Epoch 99/100\n",
      "387/387 [==============================] - 0s 1ms/step - loss: 0.3733 - mse: 0.3733 - val_loss: 0.3772 - val_mse: 0.3772\n",
      "Epoch 100/100\n",
      "387/387 [==============================] - 0s 1ms/step - loss: 0.3728 - mse: 0.3728 - val_loss: 0.3774 - val_mse: 0.3774\n"
     ]
    }
   ],
   "source": [
    "# it does not converge due to the fact that the min_delta value is too small for the \n",
    "# number of epoch given 100 to converge.\n",
    "# I do not know if the optimizer used is not ideal for this model.\n",
    "\n",
    "callbacks_list = [tf.keras.callbacks.EarlyStopping(monitor= 'val_loss', min_delta = .001, patience = 10)]\n",
    "model = Sequential([Dense(32, activation=\"relu\", input_shape=(8,)),Dense(1)])\n",
    "model.compile(loss=\"mse\", optimizer=tf.keras.optimizers.SGD(learning_rate=0.001), metrics=\"mse\")\n",
    "history = model.fit(X_train_scaled, yS_train,epochs=100,validation_data=(X_valid_scaled, y_valid),\n",
    "                    callbacks = callbacks_list)\n"
   ]
  },
  {
   "cell_type": "markdown",
   "metadata": {},
   "source": [
    "After around 64 epochs, the training process stops, because the loss value of the validation data did not improve anymore in the last 8 epochs by the specified value."
   ]
  },
  {
   "cell_type": "markdown",
   "metadata": {},
   "source": [
    "## The training history\n",
    "The call to `model.fit()` returns a `History` object. This object has a member `history`, which is a dictionary containing the values of the loss and chosen metrics on the training and validation set during each training epoch. Since the 'history' attribute is a python dictionary, you can retrive the keys using the `.keys()` method. The `logs` dictionary stores the loss value, along with all of the metrics we are using at the end of a batch or epoch.\n",
    "\n",
    "In the following, a method `plot_loss()` is implemented that takes this history object and plots the training and validation loss using matplotlib. "
   ]
  },
  {
   "cell_type": "code",
   "execution_count": 342,
   "metadata": {},
   "outputs": [],
   "source": [
    "import matplotlib.pyplot as plt\n",
    "\n",
    "def plot_loss(history):\n",
    "    loss = history.history['loss']\n",
    "    val_loss = history.history['val_loss']\n",
    "    plt.plot(loss, label='loss')\n",
    "    plt.plot(val_loss, label='val_loss')\n",
    "    plt.ylim([0.2, 1.6])\n",
    "    plt.xlabel('Epoch')\n",
    "    plt.ylabel('Loss ')\n",
    "    plt.legend()\n",
    "    plt.grid(True)\n",
    "    plt.show()"
   ]
  },
  {
   "cell_type": "markdown",
   "metadata": {},
   "source": [
    "It is then called with the history object."
   ]
  },
  {
   "cell_type": "code",
   "execution_count": 343,
   "metadata": {},
   "outputs": [
    {
     "data": {
      "image/png": "[encoded data removed]",
      "text/plain": [
       "<Figure size 432x288 with 1 Axes>"
      ]
     },
     "metadata": {
      "needs_background": "light"
     },
     "output_type": "display_data"
    }
   ],
   "source": [
    "plot_loss(history)"
   ]
  },
  {
   "cell_type": "markdown",
   "metadata": {},
   "source": [
    "We can see that although the training loss (blue line) decreases until the end of the training process, the validation loss plateaus much earlier. The model probably starts to overfit at around epoch 25 or so."
   ]
  },
  {
   "cell_type": "markdown",
   "metadata": {},
   "source": [
    "## Evaluation on test data\n",
    "\n",
    "Using the `evaluate()` method of the model on the test data, we can get the evaluation metrics, here MSE. "
   ]
  },
  {
   "cell_type": "code",
   "execution_count": 344,
   "metadata": {},
   "outputs": [
    {
     "name": "stdout",
     "output_type": "stream",
     "text": [
      "129/129 [==============================] - 0s 773us/step - loss: 0.3870 - mse: 0.3870\n"
     ]
    }
   ],
   "source": [
    "mse_test = model.evaluate(X_test_scaled, y_test)"
   ]
  },
  {
   "cell_type": "markdown",
   "metadata": {},
   "source": [
    "The mean squared error on the test data seems to be the same as for the validation data. So we can conclude, that the model generalizes well to unseen data."
   ]
  },
  {
   "cell_type": "markdown",
   "metadata": {},
   "source": [
    "## Making predictions\n",
    "\n",
    "Finally, let us make some predictions on the test data using the `predict()` method. And display the first 10 results."
   ]
  },
  {
   "cell_type": "code",
   "execution_count": 345,
   "metadata": {},
   "outputs": [
    {
     "data": {
      "text/plain": [
       "array([[0.6888725],\n",
       "       [1.7078247],\n",
       "       [3.5952587],\n",
       "       [2.7903302],\n",
       "       [2.6968858]], dtype=float32)"
      ]
     },
     "execution_count": 345,
     "metadata": {},
     "output_type": "execute_result"
    }
   ],
   "source": [
    "y_pred = model.predict(X_test_scaled)\n",
    "y_pred[0:5]"
   ]
  },
  {
   "cell_type": "markdown",
   "metadata": {},
   "source": [
    "And also output the real target values to compare them."
   ]
  },
  {
   "cell_type": "code",
   "execution_count": 346,
   "metadata": {},
   "outputs": [
    {
     "data": {
      "text/plain": [
       "array([0.477  , 0.458  , 5.00001, 2.186  , 2.78   ])"
      ]
     },
     "execution_count": 346,
     "metadata": {},
     "output_type": "execute_result"
    }
   ],
   "source": [
    "y_test[0:5]"
   ]
  },
  {
   "cell_type": "markdown",
   "metadata": {},
   "source": [
    "Be reminded, that the predicted housing prices are in \\\\$100.000. Although the predicted results seem to be quite off, the model still follows the general trend of the prices. High prices are high, and low prices are low.\n",
    "\n",
    "The next function takes the true target values and the predicted house prices and plots a scatterplot."
   ]
  },
  {
   "cell_type": "code",
   "execution_count": 347,
   "metadata": {},
   "outputs": [],
   "source": [
    "def plot_diff(y_true, y_pred, title = 'Linear_Regression'):\n",
    "    plt.scatter(y_true, y_pred)\n",
    "    plt.title(title)\n",
    "    plt.xlabel('True Values')\n",
    "    plt.ylabel('Predictions')\n",
    "    plt.axis = ('equal')\n",
    "    plt.axis = ('square')\n",
    "    plt.xlim(plt.xlim())\n",
    "    plt.ylim(plt.ylim())\n",
    "    plt.plot([-500, 500], [-500, 500])"
   ]
  },
  {
   "cell_type": "code",
   "execution_count": 348,
   "metadata": {},
   "outputs": [
    {
     "data": {
      "image/png": "[encoded data removed]",
      "text/plain": [
       "<Figure size 432x288 with 1 Axes>"
      ]
     },
     "metadata": {
      "needs_background": "light"
     },
     "output_type": "display_data"
    }
   ],
   "source": [
    "plot_diff(y_test, y_pred)"
   ]
  },
  {
   "cell_type": "markdown",
   "metadata": {},
   "source": [
    "We can see that the model follows the general trend."
   ]
  }
 ],
 "metadata": {
  "kernelspec": {
   "display_name": "Python 3 (ipykernel)",
   "language": "python",
   "name": "python3"
  },
  "language_info": {
   "codemirror_mode": {
    "name": "ipython",
    "version": 3
   },
   "file_extension": ".py",
   "mimetype": "text/x-python",
   "name": "python",
   "nbconvert_exporter": "python",
   "pygments_lexer": "ipython3",
   "version": "3.10.10"
  }
 },
 "nbformat": 4,
 "nbformat_minor": 4
}
