{
 "cells": [
  {
   "cell_type": "code",
   "execution_count": 13,
   "id": "dbf6eef6-4152-4450-b837-275aa000873c",
   "metadata": {},
   "outputs": [
    {
     "name": "stdout",
     "output_type": "stream",
     "text": [
      "/home/jovyan/coursematerial/GIS/ISPRS/Vaihingen3DTraining.las\n"
     ]
    }
   ],
   "source": [
    "from pathlib import Path\n",
    "import os\n",
    "data_dir = str(Path.home()) + r'/coursematerial/GIS/ISPRS'\n",
    "filepath = os.path.join(data_dir, r'Vaihingen3DTraining.las')\n",
    "print(filepath)"
   ]
  },
  {
   "cell_type": "code",
   "execution_count": 14,
   "id": "0704d65f-ee3e-492d-bd49-6f5ffe73251f",
   "metadata": {},
   "outputs": [
    {
     "name": "stdout",
     "output_type": "stream",
     "text": [
      "[[ 496848.91 5419403.58     265.46]\n",
      " [ 496848.92 5419403.97     265.43]\n",
      " [ 496848.93 5419404.35     265.4 ]\n",
      " ...\n",
      " [ 497066.43 5419331.1      266.89]\n",
      " [ 497066.43 5419331.36     266.87]\n",
      " [ 497066.44 5419331.63     266.88]]\n",
      "(753876, 3)\n"
     ]
    }
   ],
   "source": [
    "import laspy\n",
    "import numpy as np\n",
    "file= laspy.read('/home/jovyan/coursematerial/GIS/ISPRS/Vaihingen3DTraining.las')\n",
    "xyz = np.stack((file.x, file.y, file.z), axis=1)\n",
    "np.set_printoptions(precision=2,suppress=True)\n",
    "print(xyz)\n",
    "print(xyz.shape)"
   ]
  },
  {
   "cell_type": "code",
   "execution_count": 15,
   "id": "9e76a261-eeac-4114-b506-ec56bc88d6c7",
   "metadata": {},
   "outputs": [
    {
     "name": "stdout",
     "output_type": "stream",
     "text": [
      "[[0.   0.12 0.37 ... 3.05 3.18 3.22]\n",
      " [0.   0.14 0.28 ... 2.95 3.   3.04]\n",
      " [0.   0.17 0.25 ... 2.9  2.9  2.95]\n",
      " ...\n",
      " [0.   0.   0.15 ... 0.88 0.92 0.92]\n",
      " [0.   0.   0.15 ... 0.89 0.97 0.97]\n",
      " [0.   0.   0.15 ... 0.97 0.97 0.99]]\n",
      "[[     0 131981     10 ... 132064 132066 132026]\n",
      " [     1 131982 131981 ... 132064 132026 132066]\n",
      " [     2 131983 131982 ... 132062 132064 132066]\n",
      " ...\n",
      " [422915 753873 648126 ... 648124 648128 276754]\n",
      " [753874 422916 753673 ... 277290 753677 422450]\n",
      " [422917 753875 753672 ... 648125 276751 753676]]\n",
      "(753876, 40)\n",
      "(753876, 40)\n"
     ]
    }
   ],
   "source": [
    "from sklearn.neighbors import KDTree\n",
    "kd_tree_3d =KDTree(xyz)\n",
    "distances3d,indices3d=kd_tree_3d.query(xyz, k=40)\n",
    "print(distances3d)\n",
    "print(indices3d)\n",
    "print(distances3d.shape)\n",
    "print(indices3d.shape)"
   ]
  },
  {
   "cell_type": "code",
   "execution_count": 16,
   "id": "62386ffd-7820-4a41-bcf1-17090cee2860",
   "metadata": {},
   "outputs": [
    {
     "name": "stdout",
     "output_type": "stream",
     "text": [
      "[[0.   0.67 0.88 0.97 1.01 1.1  1.18 1.34 1.38 1.44 1.45 1.45 1.45 1.46\n",
      "  1.47 1.48 1.53 1.63 1.63 1.69 1.7  1.74 1.75 1.75 1.76 1.81 1.82 1.84\n",
      "  1.86 1.88 1.89 1.9  2.01 2.06 2.08 2.09 2.1  2.11 2.14 2.19]]\n",
      "[[    15 131987      4      5 131988 132011      6 132026 131989 132024\n",
      "       7 132028     40 131984 132009     19     12      3 132030 132070\n",
      "  132072 131983 132068 131990      8     38 132074     20 132032 132008\n",
      "  132066      2 132076 131982     53 132064      9 131991 132033     37]]\n",
      "(1, 40)\n",
      "(1, 40)\n",
      "(1, 40, 3)\n",
      "[[[ 496850.22 5419405.73     265.21]\n",
      "  [ 496850.13 5419405.07     265.22]\n",
      "  [ 496849.34 5419405.72     265.3 ]\n",
      "  [ 496849.33 5419405.36     265.34]\n",
      "  [ 496850.11 5419404.74     265.36]\n",
      "  [ 496850.41 5419404.67     265.41]\n",
      "  [ 496849.32 5419404.99     265.37]\n",
      "  [ 496851.53 5419405.44     265.28]\n",
      "  [ 496850.08 5419404.37     265.39]\n",
      "  [ 496851.58 5419406.19     265.25]\n",
      "  [ 496849.31 5419404.62     265.38]\n",
      "  [ 496851.51 5419405.09     265.37]\n",
      "  [ 496850.61 5419407.13     265.19]\n",
      "  [ 496849.03 5419404.9      265.37]\n",
      "  [ 496850.38 5419404.28     265.41]\n",
      "  [ 496850.27 5419407.21     265.2 ]\n",
      "  [ 496850.18 5419404.21     265.38]\n",
      "  [ 496848.94 5419404.73     265.36]\n",
      "  [ 496851.49 5419404.73     265.44]\n",
      "  [ 496851.89 5419405.57     265.39]\n",
      "  [ 496851.91 5419405.94     265.25]\n",
      "  [ 496849.   5419404.5      265.38]\n",
      "  [ 496851.86 5419405.2      265.49]\n",
      "  [ 496850.06 5419404.       265.4 ]\n",
      "  [ 496849.29 5419404.25     265.41]\n",
      "  [ 496850.62 5419407.5      265.2 ]\n",
      "  [ 496851.94 5419406.33     265.28]\n",
      "  [ 496850.28 5419407.57     265.2 ]\n",
      "  [ 496851.46 5419404.37     265.51]\n",
      "  [ 496850.35 5419403.87     265.42]\n",
      "  [ 496851.83 5419404.84     265.63]\n",
      "  [ 496848.93 5419404.35     265.4 ]\n",
      "  [ 496851.97 5419406.71     265.18]\n",
      "  [ 496848.97 5419404.1      265.42]\n",
      "  [ 496851.47 5419407.39     265.16]\n",
      "  [ 496851.81 5419404.49     265.75]\n",
      "  [ 496849.28 5419403.87     265.46]\n",
      "  [ 496850.03 5419403.64     265.45]\n",
      "  [ 496851.44 5419404.03     265.64]\n",
      "  [ 496850.63 5419407.88     265.17]]]\n"
     ]
    }
   ],
   "source": [
    "d15, i15 =kd_tree_3d.query(xyz[15:16,:],k=40)\n",
    "print(d15)\n",
    "print(i15)\n",
    "print(d15.shape)\n",
    "print(i15.shape)\n",
    "print(xyz[i15].shape)\n",
    "print(xyz[i15])"
   ]
  },
  {
   "cell_type": "code",
   "execution_count": 17,
   "id": "208056cd-5a89-49a7-afe7-e340af1b12db",
   "metadata": {},
   "outputs": [
    {
     "name": "stdout",
     "output_type": "stream",
     "text": [
      "[    20     38     19     21     37     40     36     34     53     56\n",
      "     97     59     15 132076 132024     95 132074      4 132082     93\n",
      " 132072     91      5 132026 131987 132070     89      6     63 132113\n",
      " 132115 132028    165 132111    161 131988 132068 132110 132011 131984]\n",
      "[0.   0.35 0.36 0.37 0.47 0.55 0.75 1.11 1.2  1.34 1.72 1.8  1.84 1.9\n",
      " 1.9  1.91 2.07 2.08 2.13 2.15 2.31 2.41 2.41 2.47 2.5  2.57 2.69 2.76\n",
      " 2.76 2.76 2.77 2.77 2.78 2.79 2.79 2.84 2.86 2.89 2.91 2.95]\n",
      "[[ 496850.28 5419407.57     265.2 ]\n",
      " [ 496850.62 5419407.5      265.2 ]\n",
      " [ 496850.27 5419407.21     265.2 ]\n",
      " [ 496850.29 5419407.94     265.15]\n",
      " [ 496850.63 5419407.88     265.17]\n",
      " [ 496850.61 5419407.13     265.19]\n",
      " [ 496850.64 5419408.23     265.16]\n",
      " [ 496850.65 5419408.61     265.1 ]\n",
      " [ 496851.47 5419407.39     265.16]\n",
      " [ 496851.5  5419408.13     265.14]\n",
      " [ 496851.85 5419408.26     265.12]\n",
      " [ 496851.52 5419408.87     265.07]\n",
      " [ 496850.22 5419405.73     265.21]\n",
      " [ 496851.97 5419406.71     265.18]\n",
      " [ 496851.58 5419406.19     265.25]\n",
      " [ 496851.86 5419408.64     265.06]\n",
      " [ 496851.94 5419406.33     265.28]\n",
      " [ 496849.34 5419405.72     265.3 ]\n",
      " [ 496852.1  5419408.66     265.02]\n",
      " [ 496851.87 5419409.01     265.01]\n",
      " [ 496851.91 5419405.94     265.25]\n",
      " [ 496851.88 5419409.36     265.01]\n",
      " [ 496849.33 5419405.36     265.34]\n",
      " [ 496851.53 5419405.44     265.28]\n",
      " [ 496850.13 5419405.07     265.22]\n",
      " [ 496851.89 5419405.57     265.39]\n",
      " [ 496851.89 5419409.72     265.01]\n",
      " [ 496849.32 5419404.99     265.37]\n",
      " [ 496851.56 5419410.       264.93]\n",
      " [ 496853.04 5419407.47     265.26]\n",
      " [ 496853.01 5419407.13     265.41]\n",
      " [ 496851.51 5419405.09     265.37]\n",
      " [ 496853.02 5419407.22     265.5 ]\n",
      " [ 496853.06 5419407.85     265.2 ]\n",
      " [ 496853.04 5419408.01     265.22]\n",
      " [ 496850.11 5419404.74     265.36]\n",
      " [ 496851.86 5419405.2      265.49]\n",
      " [ 496853.09 5419408.22     265.12]\n",
      " [ 496850.41 5419404.67     265.41]\n",
      " [ 496849.03 5419404.9      265.37]]\n"
     ]
    }
   ],
   "source": [
    "print(indices3d[20])\n",
    "print(distances3d[20])\n",
    "print(xyz[indices3d[20]])"
   ]
  },
  {
   "cell_type": "code",
   "execution_count": 18,
   "id": "1ecb4c1b-2a20-47e7-a738-933f19544834",
   "metadata": {},
   "outputs": [
    {
     "name": "stdout",
     "output_type": "stream",
     "text": [
      "(60, 2)\n",
      "(40, 3)\n",
      "(1, 40, 3)\n",
      "(40, 3)\n"
     ]
    }
   ],
   "source": [
    "slice_i15 =xyz[i15]\n",
    "print(np.reshape(slice_i15,(60,2)).shape)\n",
    "print(np.squeeze(slice_i15).shape)\n",
    "print(slice_i15.shape)\n",
    "print(slice_i15[0,:].shape)"
   ]
  },
  {
   "cell_type": "code",
   "execution_count": 19,
   "id": "bdbf7234-ec56-4dfd-9e25-c6c15135bd56",
   "metadata": {},
   "outputs": [
    {
     "name": "stdout",
     "output_type": "stream",
     "text": [
      "[[[[0 2 4 8 3]]\n",
      "\n",
      "  [[1 4 5 7 8]]\n",
      "\n",
      "  [[8 3 7 3 6]]]]\n",
      "(3, 1, 5)\n",
      "(3, 5)\n"
     ]
    }
   ],
   "source": [
    "z=np.random.randint(0,9,(1,3,1,5))\n",
    "print(z)\n",
    "print(np.squeeze(z,axis=0).shape)\n",
    "print(np.squeeze(z).shape)"
   ]
  },
  {
   "cell_type": "code",
   "execution_count": 20,
   "id": "c540d6b1-21b4-463e-9083-e9978fcb6106",
   "metadata": {},
   "outputs": [
    {
     "name": "stdout",
     "output_type": "stream",
     "text": [
      "[[ 1.07  0.39  0.01]\n",
      " [ 0.39  1.38 -0.12]\n",
      " [ 0.01 -0.12  0.02]]\n",
      "[1.65 0.81 0.01]\n",
      "[[ 0.56  0.83 -0.04]\n",
      " [ 0.83 -0.55  0.1 ]\n",
      " [-0.06  0.09  0.99]]\n"
     ]
    }
   ],
   "source": [
    "covi15=np.cov(np.squeeze(xyz[i15],axis=0),rowvar=False)\n",
    "print(covi15)\n",
    "w_value,v_vector=np.linalg.eig(covi15)\n",
    "print(w_value)\n",
    "print(v_vector)"
   ]
  },
  {
   "cell_type": "code",
   "execution_count": 33,
   "id": "384ac219-de92-4700-a0f3-c456bd5b3eff",
   "metadata": {},
   "outputs": [
    {
     "name": "stdout",
     "output_type": "stream",
     "text": [
      "[[[0. 0. 0.]\n",
      "  [0. 0. 0.]\n",
      "  [0. 0. 0.]]\n",
      "\n",
      " [[0. 0. 0.]\n",
      "  [0. 0. 0.]\n",
      "  [0. 0. 0.]]\n",
      "\n",
      " [[0. 0. 0.]\n",
      "  [0. 0. 0.]\n",
      "  [0. 0. 0.]]\n",
      "\n",
      " ...\n",
      "\n",
      " [[0. 0. 0.]\n",
      "  [0. 0. 0.]\n",
      "  [0. 0. 0.]]\n",
      "\n",
      " [[0. 0. 0.]\n",
      "  [0. 0. 0.]\n",
      "  [0. 0. 0.]]\n",
      "\n",
      " [[0. 0. 0.]\n",
      "  [0. 0. 0.]\n",
      "  [0. 0. 0.]]]\n",
      "[[0. 0. 0.]\n",
      " [0. 0. 0.]\n",
      " [0. 0. 0.]\n",
      " ...\n",
      " [0. 0. 0.]\n",
      " [0. 0. 0.]\n",
      " [0. 0. 0.]]\n",
      "0:01:35.943665\n"
     ]
    }
   ],
   "source": [
    "from sklearn.neighbors import KDTree\n",
    "import numpy as np\n",
    "import time\n",
    "from datetime import timedelta\n",
    "start_time=time.process_time()\n",
    "w1=np.zeros((np.shape(xyz)[0],3))\n",
    "v1=np.zeros((np.shape(xyz)[0],3,3))\n",
    "print(v1)\n",
    "print(w1)\n",
    "\n",
    "for i in range(xyz.shape[0]):\n",
    "    dst,ind =kd_tree_3d.query(xyz[i:i+1,:],k=40)\n",
    "    c = np.cov(np.squeeze(xyz[ind], axis=0), rowvar=False)\n",
    "    w1[i],v1[i,:]=np.linalg.eig(c)\n",
    "    \n",
    "end_time = time.process_time()\n",
    "print(timedelta(seconds=end_time - start_time))\n",
    "\n",
    "\n",
    "    \n",
    "\n",
    "\n"
   ]
  },
  {
   "cell_type": "code",
   "execution_count": null,
   "id": "bb69de45-582b-4fdb-9595-4e53b18ee64f",
   "metadata": {},
   "outputs": [],
   "source": [
    "start_time = time.process_time()\n",
    "distances3d, indices3d = kd_tree_3d.query(xyz, k=20)\n",
    "w2 = np.zeros((np.shape(xyz)[0], 3))\n",
    "v2 = np.zeros((np.shape(xyz)[0], 3, 3))\n",
    "for i in range(xyz.shape[0]):\n",
    "     c = np.cov(xyz[indices3d[i]], rowvar=False)\n",
    "    w2[i], v2[i,:] = np.linalg.eig(c)\n",
    "end_time = time.process_time()\n",
    "print(timedelta(seconds=end_time - start_time))"
   ]
  },
  {
   "cell_type": "code",
   "execution_count": null,
   "id": "441ecb1f-9d5a-4e34-b72f-4c40b87e180c",
   "metadata": {},
   "outputs": [],
   "source": []
  },
  {
   "cell_type": "code",
   "execution_count": null,
   "id": "02db3534-ec6c-4ca6-b025-9c7383c91cd1",
   "metadata": {},
   "outputs": [],
   "source": []
  }
 ],
 "metadata": {
  "kernelspec": {
   "display_name": "Python 3 (ipykernel)",
   "language": "python",
   "name": "python3"
  },
  "language_info": {
   "codemirror_mode": {
    "name": "ipython",
    "version": 3
   },
   "file_extension": ".py",
   "mimetype": "text/x-python",
   "name": "python",
   "nbconvert_exporter": "python",
   "pygments_lexer": "ipython3",
   "version": "3.9.10"
  }
 },
 "nbformat": 4,
 "nbformat_minor": 5
}
